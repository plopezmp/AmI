{
  "nbformat": 4,
  "nbformat_minor": 0,
  "metadata": {
    "colab": {
      "provenance": [],
      "mount_file_id": "16gI35p2OMQH8K16kzwmfL7-2NKmhXnZJ",
      "authorship_tag": "ABX9TyPguRgnw+DLaAl8V4FVERMu",
      "include_colab_link": true
    },
    "kernelspec": {
      "name": "python3",
      "display_name": "Python 3"
    },
    "language_info": {
      "name": "python"
    }
  },
  "cells": [
    {
      "cell_type": "markdown",
      "metadata": {
        "id": "view-in-github",
        "colab_type": "text"
      },
      "source": [
        "<a href=\"https://colab.research.google.com/github/plopezmp/AmI/blob/main/AmI_Numpy%26Pandas_tut.ipynb\" target=\"_parent\"><img src=\"https://colab.research.google.com/assets/colab-badge.svg\" alt=\"Open In Colab\"/></a>"
      ]
    },
    {
      "cell_type": "markdown",
      "source": [
        "# NumPy"
      ],
      "metadata": {
        "id": "XlFx6jGSs0Ys"
      }
    },
    {
      "cell_type": "code",
      "execution_count": 1,
      "metadata": {
        "id": "sZ85PChwss5B"
      },
      "outputs": [],
      "source": [
        "import numpy as np"
      ]
    },
    {
      "cell_type": "markdown",
      "source": [
        "## Crear arrays\n",
        "\n",
        "Lo podemos hacer con `np.array`"
      ],
      "metadata": {
        "id": "L6GkaA8TtKUv"
      }
    },
    {
      "cell_type": "code",
      "source": [
        "# como una lista\n",
        "one_dimensional_array = np.array([1.2, 2.4, 3.5, 4.7, 6.1, 7.2, 8.3, 9.5])\n",
        "print(one_dimensional_array)"
      ],
      "metadata": {
        "colab": {
          "base_uri": "https://localhost:8080/"
        },
        "id": "GJ2TQFrntJtd",
        "outputId": "9afad6b5-f1cd-4829-e041-28a9b5ae2c43"
      },
      "execution_count": 2,
      "outputs": [
        {
          "output_type": "stream",
          "name": "stdout",
          "text": [
            "[1.2 2.4 3.5 4.7 6.1 7.2 8.3 9.5]\n"
          ]
        }
      ]
    },
    {
      "cell_type": "code",
      "source": [
        "# como una matriz\n",
        "two_dimensional_array = np.array([[6, 5], [11, 7], [4, 8]])\n",
        "print(two_dimensional_array)"
      ],
      "metadata": {
        "colab": {
          "base_uri": "https://localhost:8080/"
        },
        "id": "r7-yApvltZgv",
        "outputId": "65c7fdfe-84e8-464a-b9b9-682e15b75cb2"
      },
      "execution_count": 3,
      "outputs": [
        {
          "output_type": "stream",
          "name": "stdout",
          "text": [
            "[[ 6  5]\n",
            " [11  7]\n",
            " [ 4  8]]\n"
          ]
        }
      ]
    },
    {
      "cell_type": "markdown",
      "source": [
        "Podemos crear listas de ceros con `np.zeros` o con unos con `np.ones`."
      ],
      "metadata": {
        "id": "YEI50mBAtpvQ"
      }
    },
    {
      "cell_type": "markdown",
      "source": [
        "## Crear arrays con un rango de números"
      ],
      "metadata": {
        "id": "EUG5jJ-Pt2Ce"
      }
    },
    {
      "cell_type": "code",
      "source": [
        "sequence_of_integers = np.arange(5, 12)\n",
        "print(sequence_of_integers)"
      ],
      "metadata": {
        "colab": {
          "base_uri": "https://localhost:8080/"
        },
        "id": "IbyQ7VzotkJt",
        "outputId": "40754da9-522d-43bd-915f-67543f64cb47"
      },
      "execution_count": null,
      "outputs": [
        {
          "output_type": "stream",
          "name": "stdout",
          "text": [
            "[ 5  6  7  8  9 10 11]\n"
          ]
        }
      ]
    },
    {
      "cell_type": "markdown",
      "source": [
        "Comprobamos que no incluye el 12 en la lista"
      ],
      "metadata": {
        "id": "uW4TY_GguC2P"
      }
    },
    {
      "cell_type": "markdown",
      "source": [
        "## Crear arrays con números aleatorios"
      ],
      "metadata": {
        "id": "XMu_ISc-uJWh"
      }
    },
    {
      "cell_type": "code",
      "source": [
        "random_integers_between_50_and_100 = np.random.randint(low=50, high=101, size=(6))\n",
        "print(random_integers_between_50_and_100)"
      ],
      "metadata": {
        "colab": {
          "base_uri": "https://localhost:8080/"
        },
        "id": "Us7r4uJpt9dj",
        "outputId": "b3292420-60cb-4de3-ca80-0688496dab3e"
      },
      "execution_count": null,
      "outputs": [
        {
          "output_type": "stream",
          "name": "stdout",
          "text": [
            "[56 80 67 96 80 70]\n"
          ]
        }
      ]
    },
    {
      "cell_type": "markdown",
      "source": [
        "También podemos crear una lista de numeros aleatorios entre 0 y 1."
      ],
      "metadata": {
        "id": "AFobOcvBuaMd"
      }
    },
    {
      "cell_type": "code",
      "source": [
        "random_floats_between_0_and_1 = np.random.random([6])\n",
        "print(random_floats_between_0_and_1)"
      ],
      "metadata": {
        "colab": {
          "base_uri": "https://localhost:8080/"
        },
        "id": "BCg1Rst5uRwl",
        "outputId": "46525fcd-8b4c-4bf0-df99-077962d00763"
      },
      "execution_count": null,
      "outputs": [
        {
          "output_type": "stream",
          "name": "stdout",
          "text": [
            "[0.62912731 0.02642456 0.82288168 0.19597391 0.21067686 0.79652183]\n"
          ]
        }
      ]
    },
    {
      "cell_type": "markdown",
      "source": [
        "## Broadcasting para realizar operaciones algebráicas con operandos de dimensiones diferentes"
      ],
      "metadata": {
        "id": "1Pjzita1u8SY"
      }
    },
    {
      "cell_type": "code",
      "source": [
        "random_floats_between_2_and_3 = random_floats_between_0_and_1 + 2.0\n",
        "print(random_floats_between_2_and_3)"
      ],
      "metadata": {
        "colab": {
          "base_uri": "https://localhost:8080/"
        },
        "id": "Kgj9ZSNruh0j",
        "outputId": "2809d0af-98df-4627-932f-97de3b04f45e"
      },
      "execution_count": null,
      "outputs": [
        {
          "output_type": "stream",
          "name": "stdout",
          "text": [
            "[2.62912731 2.02642456 2.82288168 2.19597391 2.21067686 2.79652183]\n"
          ]
        }
      ]
    },
    {
      "cell_type": "code",
      "source": [
        "random_integers_between_150_and_300 = random_integers_between_50_and_100 * 3\n",
        "print(random_integers_between_150_and_300)"
      ],
      "metadata": {
        "colab": {
          "base_uri": "https://localhost:8080/"
        },
        "id": "FfbGrOZLvF5H",
        "outputId": "e04f95ea-fa15-41d3-9541-8bd140b01a03"
      },
      "execution_count": null,
      "outputs": [
        {
          "output_type": "stream",
          "name": "stdout",
          "text": [
            "[168 240 201 288 240 210]\n"
          ]
        }
      ]
    },
    {
      "cell_type": "markdown",
      "source": [
        "## EJERCICIO 1: Crear un dataset sencillo\n",
        "El objetivo es crear un dataset de una sóla feature y una etiqueta, de la siguiente forma:\n",
        "1. Crear un `np.array` de enteros entre 6 y 20 (incluido) de nombre `feature`\n",
        "2. Asignar 15 valores a otro `np.array` de nombre `label`\n",
        "\n",
        "`label = (3)(feature) + 4`\n",
        "\n",
        "así, por ejemplo, el primer valor debería ser:\n",
        "\n",
        "`label = (3)(6) + 4 = 22`"
      ],
      "metadata": {
        "id": "IkWymZs4vQx-"
      }
    },
    {
      "cell_type": "markdown",
      "source": [
        "### Solución a la EJERCICIO 1:"
      ],
      "metadata": {
        "id": "pMVaxXHlxF23"
      }
    },
    {
      "cell_type": "code",
      "source": [
        "feature = ? # escriba aquí\n",
        "print(feature)\n",
        "label = ?   # escriba aquí\n",
        "print(label)"
      ],
      "metadata": {
        "id": "cTBmZ-HWvJhJ"
      },
      "execution_count": null,
      "outputs": []
    },
    {
      "cell_type": "code",
      "source": [
        "#@title click aquí para ver la solución\n",
        "feature = np.arange(6, 21)\n",
        "print (feature)\n",
        "label = (feature * 3) + 4\n",
        "print(label)"
      ],
      "metadata": {
        "cellView": "form",
        "id": "rfYpA76vasq1"
      },
      "execution_count": null,
      "outputs": []
    },
    {
      "cell_type": "markdown",
      "source": [
        "## EJERCICIO 2: Añadir ruido a el dataset\n",
        "Para hacer que los datos sean más realistas podemos añadir un pequeño valor aleatorio a cada elemento del array `label`.\n",
        "\n",
        "En concreto,  añadamos un número aleatorio tipo float cogidos entre -2 y +2. No ralice *broadcasting*, debe hacer un nuevo array `noise` que tenga las mismas dimensiones que `label``\n"
      ],
      "metadata": {
        "id": "QB3ff_S8xPdG"
      }
    },
    {
      "cell_type": "markdown",
      "source": [
        "### Solución a la EJERCICIO 2:"
      ],
      "metadata": {
        "id": "RvgvyQ77y9Ey"
      }
    },
    {
      "cell_type": "code",
      "source": [
        "noise = ?    # escriba aquí\n",
        "print(noise)\n",
        "label = ?    # escriba aquí\n",
        "print(label)"
      ],
      "metadata": {
        "id": "SbUIv0GOylGX"
      },
      "execution_count": null,
      "outputs": []
    },
    {
      "cell_type": "code",
      "source": [
        "#@title click aquí para ver la solución\n",
        "noise = (np. random. random ( [15]) * 4)- 2\n",
        "print (noise)\n",
        "label = label + noise\n",
        "print(label)"
      ],
      "metadata": {
        "cellView": "form",
        "id": "D2ay7cgSbvk1"
      },
      "execution_count": null,
      "outputs": []
    },
    {
      "cell_type": "markdown",
      "source": [
        "***"
      ],
      "metadata": {
        "id": "CmwbIAZhzZwl"
      }
    },
    {
      "cell_type": "markdown",
      "source": [
        "# PANDAS"
      ],
      "metadata": {
        "id": "MN20isOnzb_P"
      }
    },
    {
      "cell_type": "markdown",
      "source": [
        "Esta librería de Python introduce los **DataFrames** que se maneja de forma similar a las hojas de cálculo, de hecho:\n",
        "* Un DataFrame almacena datos en celdas\n",
        "* Un DataFrame pueden tener columnas con nombres y las filas están numeradas"
      ],
      "metadata": {
        "id": "DqwP5fY80XVS"
      }
    },
    {
      "cell_type": "code",
      "source": [
        "import numpy as np\n",
        "import pandas as pd"
      ],
      "metadata": {
        "id": "saIIHh5uy3zS"
      },
      "execution_count": null,
      "outputs": []
    },
    {
      "cell_type": "markdown",
      "source": [
        "## Crear un DataFrame"
      ],
      "metadata": {
        "id": "67VKUTUK1B_i"
      }
    },
    {
      "cell_type": "markdown",
      "source": [
        "El siguiente código crea un DataFrame de 10 celdas organizadas con:\n",
        "* 5 filas\n",
        "* 2 columnas, una de nombre `temperature` y otra `activity`\n",
        "\n",
        "El código instancia una clase `pd.DataFrame` para generar un DataFrame. La clase toma 2 argumentos:\n",
        "* El primero proporciona los datos para rellenar las 10 celdas. Lo hace usando `np.array` para generar un array de 5x2\n",
        "* El segundo identifica los nombres de las dos columnas"
      ],
      "metadata": {
        "id": "vpA_iji71FyU"
      }
    },
    {
      "cell_type": "code",
      "source": [
        "# Crear 5x2 NumPy array.\n",
        "my_data = np.array([[0, 3], [10, 7], [20, 9], [30, 14], [40, 15]])\n",
        "\n",
        "# Crear una lista de nombres para las dos columnas.\n",
        "my_column_names = ['temperature', 'activity']\n",
        "\n",
        "# Crear DataFrame.\n",
        "my_dataframe = pd.DataFrame(data=my_data, columns=my_column_names)\n",
        "\n",
        "# Imprimir el DataFrame\n",
        "print(my_dataframe)"
      ],
      "metadata": {
        "colab": {
          "base_uri": "https://localhost:8080/"
        },
        "id": "WNMLDH3_1AlL",
        "outputId": "be9f0da9-8947-4ec2-9034-15e67ef3b782"
      },
      "execution_count": null,
      "outputs": [
        {
          "output_type": "stream",
          "name": "stdout",
          "text": [
            "   temperature  activity\n",
            "0            0         3\n",
            "1           10         7\n",
            "2           20         9\n",
            "3           30        14\n",
            "4           40        15\n"
          ]
        }
      ]
    },
    {
      "cell_type": "markdown",
      "source": [
        "## Añadir una columna nueva al DataFrame\n",
        "la columna se llamará `adjusted`"
      ],
      "metadata": {
        "id": "WPaVMJZx2jMG"
      }
    },
    {
      "cell_type": "code",
      "source": [
        "# Crar la columna adjusted.\n",
        "my_dataframe[\"adjusted\"] = my_dataframe[\"activity\"] + 2\n",
        "\n",
        "# Imprimir el dataframe\n",
        "print(my_dataframe)"
      ],
      "metadata": {
        "colab": {
          "base_uri": "https://localhost:8080/"
        },
        "id": "MJrl81gR2csJ",
        "outputId": "266c2055-12fd-41d1-c0fd-57856fda9351"
      },
      "execution_count": null,
      "outputs": [
        {
          "output_type": "stream",
          "name": "stdout",
          "text": [
            "   temperature  activity  adjusted\n",
            "0            0         3         5\n",
            "1           10         7         9\n",
            "2           20         9        11\n",
            "3           30        14        16\n",
            "4           40        15        17\n"
          ]
        }
      ]
    },
    {
      "cell_type": "markdown",
      "source": [
        "## Seleccionar un subconjunto de un DataFrame"
      ],
      "metadata": {
        "id": "GkJ9Iplc3IPr"
      }
    },
    {
      "cell_type": "code",
      "source": [
        "print(\"Rows #0, #1, and #2:\")\n",
        "print(my_dataframe.head(3), '\\n')\n",
        "\n",
        "print(\"Row #2:\")\n",
        "print(my_dataframe.iloc[[2]], '\\n')\n",
        "\n",
        "print(\"Rows #1, #2, and #3:\")\n",
        "print(my_dataframe[1:4], '\\n')\n",
        "\n",
        "print(\"Column 'temperature':\")\n",
        "print(my_dataframe['temperature'])"
      ],
      "metadata": {
        "colab": {
          "base_uri": "https://localhost:8080/"
        },
        "id": "daiwZ9yN24kh",
        "outputId": "50899460-831b-47b0-fc96-a2ddcd877dbe"
      },
      "execution_count": null,
      "outputs": [
        {
          "output_type": "stream",
          "name": "stdout",
          "text": [
            "Rows #0, #1, and #2:\n",
            "   temperature  activity  adjusted\n",
            "0            0         3         5\n",
            "1           10         7         9\n",
            "2           20         9        11 \n",
            "\n",
            "Row #2:\n",
            "   temperature  activity  adjusted\n",
            "2           20         9        11 \n",
            "\n",
            "Rows #1, #2, and #3:\n",
            "   temperature  activity  adjusted\n",
            "1           10         7         9\n",
            "2           20         9        11\n",
            "3           30        14        16 \n",
            "\n",
            "Column 'temperature':\n",
            "0     0\n",
            "1    10\n",
            "2    20\n",
            "3    30\n",
            "4    40\n",
            "Name: temperature, dtype: int64\n"
          ]
        }
      ]
    },
    {
      "cell_type": "markdown",
      "source": [
        "## EJERCICIO 3: Crear un DataFrame\n",
        "Realice lo siguiente:\n",
        "1. Cree un DataFrame de nombre `df` de 3x4 ( 3 filas x 4 columnas) con nombre de columnas `Elena, Carlos, Tomas, Juan`. Rellene el dataframe con números enteros aleatorios entre 0 y 100 (inclusive)\n",
        "2. Muestre/Imprima:\n",
        "\n",
        "  - El DataFrame\n",
        "  - El valor de la celda de fila #1 y columna `Elena``\n",
        "\n",
        "3. Cree una quinta columna de nombre `Juana` que tenga la suma de los valores de Tomas y Juan\n",
        "\n"
      ],
      "metadata": {
        "id": "wXFHYhtz3pvl"
      }
    },
    {
      "cell_type": "markdown",
      "source": [
        "### Solución a la EJERCICIO 3:"
      ],
      "metadata": {
        "id": "07-VeJi05S75"
      }
    },
    {
      "cell_type": "code",
      "source": [
        "# Escriba su código aquí:\n",
        "\n"
      ],
      "metadata": {
        "id": "LDR9FCdB3VwO"
      },
      "execution_count": null,
      "outputs": []
    },
    {
      "cell_type": "code",
      "source": [
        "#@title click aquí para ver la solución\n",
        "my_column_names = ['Elena','Carlos','Tomas','Juan' ]\n",
        "# Crear a 3x4 numpy array, cada celda con un num aleatorio\n",
        "my_data= np.random. randint (low=0, high=101, size=(3, 4) )\n",
        "# Crear a DataFrame.\n",
        "df = pd.DataFrame (data=my_data, columns=my_column_names)\n",
        "# Imprimir el DataFrame\n",
        "print (df)\n",
        "# Imprimir la fila #1 de la columna Elena.\n",
        "print(\"Segunda fila de la columna Elena: %d\\n\" % df['Elena'][1])\n",
        "# Cree una quinta columna de nombre Juana que tenga la suma de los\n",
        "#valores de Tomas y Juan\n",
        "df['Juana'] = df['Tomas'] + df['Juan']\n",
        "# Imprimir el DataFrame construido\n",
        "print (df)"
      ],
      "metadata": {
        "cellView": "form",
        "id": "vU9O35Sacghz"
      },
      "execution_count": null,
      "outputs": []
    },
    {
      "cell_type": "markdown",
      "source": [
        "## Copiar un DataFrame (opcional)\n",
        "\n",
        "Hay dos formas:\n",
        "\n",
        "* **Referenciar:** consiste asisnar el DataFrame a otro nombre/variable y cualquier cambio se verá reflejado en cualquiera de los dos nombres del DataFrame.\n",
        "* **Copia:** se realiza con el método `pd.DataFrame.copy` y crea una copia independiente del DataFrame."
      ],
      "metadata": {
        "id": "nEZQqQdI5VD7"
      }
    },
    {
      "cell_type": "code",
      "source": [
        "# Create a reference by assigning my_dataframe to a new variable.\n",
        "print(\"Experiment with a reference:\")\n",
        "reference_to_df = df\n",
        "\n",
        "# Print the starting value of a particular cell.\n",
        "print(\"  Starting value of df: %d\" % df['Juan'][1])\n",
        "print(\"  Starting value of reference_to_df: %d\\n\" % reference_to_df['Juan'][1])\n",
        "\n",
        "# Modify a cell in df.\n",
        "df.at[1, ''] = df['Juan'][1] + 5\n",
        "print(\"  Updated df: %d\" % df['Juan'][1])\n",
        "print(\"  Updated reference_to_df: %d\\n\\n\" % reference_to_df['Juan'][1])\n",
        "\n",
        "# Create a true copy of my_dataframe\n",
        "print(\"Experiment with a true copy:\")\n",
        "copy_of_my_dataframe = my_dataframe.copy()\n",
        "\n",
        "# Print the starting value of a particular cell.\n",
        "print(\"  Starting value of my_dataframe: %d\" % my_dataframe['activity'][1])\n",
        "print(\"  Starting value of copy_of_my_dataframe: %d\\n\" % copy_of_my_dataframe['activity'][1])\n",
        "\n",
        "# Modify a cell in df.\n",
        "my_dataframe.at[1, 'activity'] = my_dataframe['activity'][1] + 3\n",
        "print(\"  Updated my_dataframe: %d\" % my_dataframe['activity'][1])\n",
        "print(\"  copy_of_my_dataframe does not get updated: %d\" % copy_of_my_dataframe['activity'][1])"
      ],
      "metadata": {
        "id": "XtHiiqAH5K4t"
      },
      "execution_count": null,
      "outputs": []
    },
    {
      "cell_type": "code",
      "source": [],
      "metadata": {
        "id": "ltAXYyMi62SD"
      },
      "execution_count": null,
      "outputs": []
    }
  ]
}