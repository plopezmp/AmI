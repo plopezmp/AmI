{
  "cells": [
    {
      "cell_type": "markdown",
      "metadata": {
        "deletable": true,
        "editable": true,
        "id": "MsJarBNacljh"
      },
      "source": [
        "# Entregable Sensorización"
      ]
    },
    {
      "cell_type": "markdown",
      "metadata": {
        "deletable": true,
        "editable": true,
        "id": "CUUhh4q8cljk"
      },
      "source": []
    },
    {
      "cell_type": "markdown",
      "metadata": {
        "deletable": true,
        "editable": true,
        "id": "FXPL_KGtcljl"
      },
      "source": [
        "Con el sensor de movimiento inercial x-BIMU:\n",
        "1. Conecte el dongle del IMU a cualquiera de los puertos USB en el PC o en una Raspberry Pi.\n",
        "2. Compruebe que el sensor está encendido, y\n",
        "3. Conteste a las cuestiones que se indican sobre el código de este notebook."
      ]
    },
    {
      "cell_type": "markdown",
      "metadata": {
        "deletable": true,
        "editable": true,
        "id": "6HlBiCkUcljl"
      },
      "source": [
        "Importamos las librerías de Python:"
      ]
    },
    {
      "cell_type": "code",
      "execution_count": null,
      "metadata": {
        "deletable": true,
        "editable": true,
        "id": "DjrLAEoKcljm"
      },
      "outputs": [],
      "source": [
        "# -*- coding: utf-8 -*-\n",
        "import serial\n",
        "import io\n",
        "import numpy as np\n",
        "from collections import deque\n",
        "from scipy import fftpack, signal\n",
        "%matplotlib inline\n",
        "from matplotlib import pyplot as plt\n",
        "from time import time"
      ]
    },
    {
      "cell_type": "markdown",
      "metadata": {
        "deletable": true,
        "editable": true,
        "id": "gFLbAoOycljn"
      },
      "source": [
        "Abrimos el puerto serie donde recibimos los datos (a través del *dongle*)."
      ]
    },
    {
      "cell_type": "code",
      "execution_count": null,
      "metadata": {
        "deletable": true,
        "editable": true,
        "id": "qUyC42QCcljn"
      },
      "outputs": [],
      "source": [
        "# Abrir el puerto serie por donde recibimos datos.\n",
        "# Sustituya '/dev/ttyUSB0' por el puerto serire que esté usando el dongle.\n",
        "# Si usa Windows será un puerto COM.\n",
        "# Puede comprobar el puerto usando x-BIMU Terminal, ó, ejecutando ports.py\n",
        "# que está en Github (/IMU/)\n",
        "ser = serial.Serial('/dev/ttyUSB0', 115200, timeout=15)"
      ]
    },
    {
      "cell_type": "markdown",
      "metadata": {
        "deletable": true,
        "editable": true,
        "id": "mYItZFsvcljn"
      },
      "source": [
        "Los datos recibidos son muestras tomadas cada 1/64 sg:"
      ]
    },
    {
      "cell_type": "code",
      "execution_count": null,
      "metadata": {
        "deletable": true,
        "editable": true,
        "id": "X0k8jnavcljo"
      },
      "outputs": [],
      "source": [
        "f_s = 64"
      ]
    },
    {
      "cell_type": "code",
      "execution_count": null,
      "metadata": {
        "deletable": true,
        "editable": true,
        "id": "-sZcoyUgcljo"
      },
      "outputs": [],
      "source": [
        "# umbral de amplitud para detectar un pico en la FFT.\n",
        "# amplitud threshold to select the FFT peak\n",
        "# the noise when sensor is steady has amp 10-30 if\n",
        "# we take accelerometer signal\n",
        "# threshold_FFT_amplitude = 10\n",
        "# The gyroscope signal has a greater amplitud\n",
        "threshold_FFT_amplitude = 1000"
      ]
    },
    {
      "cell_type": "code",
      "execution_count": null,
      "metadata": {
        "deletable": true,
        "editable": true,
        "id": "VlgDE8nScljp"
      },
      "outputs": [],
      "source": [
        "# Creating a queue\n",
        "maxlen=256\n",
        "queue =deque()\n",
        "# new samples in the buffer\n",
        "samples_non_overlaped = 64 # maxlen/4\n",
        "\n",
        "# now readline stops when encountering a \\r char\n",
        "ser_io = io.TextIOWrapper(io.BufferedRWPair(ser, ser, 1),\n",
        "                               newline = '\\r',\n",
        "                               line_buffering = True)"
      ]
    },
    {
      "cell_type": "markdown",
      "metadata": {
        "deletable": true,
        "editable": true,
        "id": "Wj4NixqKcljp"
      },
      "source": [
        "En la documentación aportada acerca de x-BIMU está la descripción y el formato de los datos recibidos desde el sensor. Cada línea de datos comienza por una letra y termina en un carácter de retorno de carro.\n",
        "En este laboratorio nos interesan los datos de los diferentes sensores que siempre comienza por el carácter ``S``, es decir son: ``S, gyrox, gyroy, gyroz, accelx, accely, accelz, magx, magy, magz, contador, checksum``. En total son 12 valores incluyendo el carácter inicial.\n",
        "\n",
        "La función ``dominant( )`` lee 512 líneas de datos que comienzan por ``'S'``.\n",
        "\n",
        "Calcula la frecuencia dominante en *ventanas* de 256 muestras con 64 muestras nuevas (``samples_non_overlapped``) cada vez."
      ]
    },
    {
      "cell_type": "code",
      "execution_count": null,
      "metadata": {
        "deletable": true,
        "editable": true,
        "id": "GZloZesPcljp"
      },
      "outputs": [],
      "source": [
        "def dominant(f_s, maxlen, queue):\n",
        "        freq_rithm = 0\n",
        "        i = 0\n",
        "        iterator = maxlen*2\n",
        "        queue = deque()\n",
        "        cont = 0\n",
        "        window = signal.blackman(maxlen)\n",
        "        while i <= iterator:\n",
        "            try:\n",
        "                line = ser_io.readline()\n",
        "            except serial.SerialException as err:\n",
        "                print(\"Error occurred while reading data: {}\".format(err))\n",
        "            if not line.endswith('\\r'):\n",
        "                print(\"Attempt to read from serial port timed out ... Exiting.\")\n",
        "                break  # terminate the loop and let the program exit\n",
        "            if line.startswith('S,'):\n",
        "                i += 1\n",
        "                line = line.split(',')\n",
        "                if len(line)==12:\n",
        "                    number = int(line[2])\n",
        "                # si cogiésemos accelx\n",
        "                # number = int(line.split(',')[4])\n",
        "                if (len(queue) == maxlen):\n",
        "                    queue.popleft()\n",
        "                    queue.append(number)\n",
        "                else:\n",
        "                    if (len(queue) < maxlen):\n",
        "                        queue.append(number)\n",
        "                if len(queue)==maxlen and (i % samples_non_overlaped == 0):\n",
        "                    # f = fourier(1./f_s, queue)\n",
        "                    f = fourier(1./f_s, queue * window)\n",
        "                    freq_rithm = freq_rithm + f\n",
        "                    cont = cont + 1\n",
        "        return freq_rithm/cont"
      ]
    },
    {
      "cell_type": "markdown",
      "metadata": {
        "deletable": true,
        "editable": true,
        "id": "hldjR3XCcljp"
      },
      "source": [
        "#### 1.    (5 puntos)   \n",
        "#### Cree una función ``fourier``( ) que calcule la frecuencia dominante pasando como parámetros de entrada el periodo de muestreo y los datos capturados. Puede ver el procedimiento en el notebook ``test FFT.ipynb`` proporcionado por el profesor.\n",
        "\n",
        "**Nota:** Compruebe el funcionamiento de la función ``dominant``( ) desde donde llamamos a ``fourier``( ).\n",
        "Usamos datos del flujo de entrada con un solape de ``maxlen`` - 64, y hacemos ``windowing`` con una ventana de Blackman para acortar el rango de frecuencias en la DFT dado que cogemos grupos de datos no contiguos."
      ]
    },
    {
      "cell_type": "code",
      "execution_count": null,
      "metadata": {
        "collapsed": true,
        "deletable": true,
        "editable": true,
        "jupyter": {
          "outputs_hidden": true
        },
        "id": "RE6Whu3Lcljq"
      },
      "outputs": [],
      "source": [
        "def fourier(timestep, data):\n",
        "    #-----Su código aquí\n",
        "\n",
        "\n",
        "\n",
        "\n",
        "\n",
        "\n",
        "    #------------------\n",
        "    return k"
      ]
    },
    {
      "cell_type": "markdown",
      "metadata": {
        "deletable": true,
        "editable": true,
        "id": "lPdAF51Ucljq"
      },
      "source": [
        "Para contestar a esta pregunta de 4 puntos debe entregar este notebook con la función ``fourier`` hecha en el espacio dejado arriba.\n",
        "\n",
        "**No olvide poner los nombres de los integrantes del grupo en cada archivo que entregue.**\n",
        "\n",
        "En este notebook los nombres deben ir en la parte superior."
      ]
    },
    {
      "cell_type": "markdown",
      "metadata": {
        "deletable": true,
        "editable": true,
        "id": "3iW3avh-cljq"
      },
      "source": [
        "## Parte principal:"
      ]
    },
    {
      "cell_type": "markdown",
      "metadata": {
        "deletable": true,
        "editable": true,
        "id": "qk_epmP4cljq"
      },
      "source": [
        "Las siguientes líneas de código son las que debe ejecutar para calcular la frecuencia dominante.\n",
        "Desde esta parte se llama a la función ``dominant( )`` que a su vez llama a la función ``fourier( )`` que usted debe codificar.\n",
        "En este código distinguimos dos partes:\n",
        "\n",
        "1. En la parte ``try`` / ``except`` comprobamos si el puerto serie está abierto.\n",
        "\n",
        "2. En la parte de la condición ``if`` *limpiamos* el buffer de entrada con ``flushInput`` y llamamos a la función ``dominant( )``."
      ]
    },
    {
      "cell_type": "code",
      "execution_count": null,
      "metadata": {
        "deletable": true,
        "editable": true,
        "jupyter": {
          "outputs_hidden": false
        },
        "id": "PqbE_wR-cljq",
        "outputId": "264735ce-e6ed-4241-dcd7-b462a346b536"
      },
      "outputs": [
        {
          "name": "stdout",
          "output_type": "stream",
          "text": [
            "serial is open\n",
            "1.3\n"
          ]
        }
      ],
      "source": [
        "try:\n",
        "    ser.isOpen()\n",
        "    print('serial is open')\n",
        "except:\n",
        "    print('error_1')\n",
        "    exit()\n",
        "\n",
        "if (ser.isOpen()):\n",
        "        ser.flushInput()\n",
        "        df = dominant(f_s, maxlen, queue)\n",
        "        # print(df)\n",
        "        print('La frecuencia dominante es: %.2f Hz'% df)\n",
        "else:\n",
        "    print('Cannot open serial port')"
      ]
    },
    {
      "cell_type": "markdown",
      "metadata": {
        "collapsed": true,
        "deletable": true,
        "editable": true,
        "jupyter": {
          "outputs_hidden": true
        },
        "id": "0aZkgs9tcljr"
      },
      "source": [
        "#### 2.    (5 puntos)\n",
        "## Instrucciones del ejercicio\n",
        "\n",
        "1. **Cree un script llamado `moduloSen.py` que contenga todo el código necesario para procesar la señal del giróscopo recibida por el puerto serie.** Este script debe incluir:\n",
        "\n",
        "   - Las importaciones de librerías necesarias.\n",
        "   - La definición de variables y funciones ya desarrolladas (como `dominant()`, `fourier()`, etc.).\n",
        "   - Una nueva función llamada `calcula_frec_dom(num_calls)` que realice `num_calls` llamadas a la función `dominant()` (cada una procesando 512 muestras del eje Y del giróscopo) y devuelva el valor medio de las frecuencias dominantes obtenidas.\n",
        "\n",
        "2. **Cree un Notebook llamado `serial.ipynb` que contenga dos celdas:**\n",
        "\n",
        "   - En la **primera celda**, debe importar desde `moduloSen.py` todas las funciones necesarias.\n",
        "   - En la **segunda celda**, debe invocar y mostrar el resultado de la función `calcula_frec_dom(num_calls)` con un valor concreto de `num_calls`.\n",
        "\n",
        "Por ejemplo, una función:"
      ]
    },
    {
      "cell_type": "code",
      "execution_count": null,
      "metadata": {
        "collapsed": true,
        "deletable": true,
        "editable": true,
        "jupyter": {
          "outputs_hidden": true
        },
        "id": "tEboWtNvcljr"
      },
      "outputs": [],
      "source": [
        "def calcula_frec_dom(num_calls)\n",
        "\n",
        "\n",
        "\n",
        "\n",
        "   return frec_dom_media"
      ]
    },
    {
      "cell_type": "markdown",
      "metadata": {
        "deletable": true,
        "editable": true,
        "id": "-CMDHItGcljr"
      },
      "source": [
        "Para contestar esta cuestión de 5 puntos debe entregar los archivos ``moduloSen.py`` y ``serial.ipynb`` con la función ``calcula_frec_dom()``.\n",
        "\n",
        "**Nota:** El código Python de la función ``calcula_frec_dom()`` no debe ponerla en este Notebook, sino en ``moduloSen.py``."
      ]
    },
    {
      "cell_type": "markdown",
      "metadata": {
        "deletable": true,
        "editable": true,
        "id": "W7Arqwtccljr"
      },
      "source": [
        "-------"
      ]
    },
    {
      "cell_type": "markdown",
      "source": [
        "## Ejemplo de ejecución\n",
        "\n",
        "El notebook `serial.ipynb` debe tener una celda donde importemos todo lo necesario de `moduloSen.py`.\n",
        "Por ejemplo,\n",
        "\n",
        "```python\n",
        "from moduloSen import calcula_frec_dom\n",
        "```\n",
        "\n",
        "y una llamada a `calcula_frec_dom(num_calls)`.\n",
        "\n",
        "Supongamos que ejecutamos la función `calcula_frec_dom(num_calls=4)` en una celda del Notebook. Esta función realizará 4 llamadas a la función `dominant()`, cada una procesando 512 muestras del eje Y del giróscopo.\n",
        "\n",
        "Por ejemplo, si las llamadas a `dominant()` devuelven los siguientes valores de frecuencia dominante (en Hz):\n",
        "\n",
        "- Llamada 1: 1.40  \n",
        "- Llamada 2: 1.60  \n",
        "- Llamada 3: 1.50  \n",
        "- Llamada 4: 1.70\n",
        "\n",
        "Entonces, la función `calcula_frec_dom(4)` calculará la media de estos valores:\n",
        "\n",
        "\\[\n",
        "\\text{Media} = \\frac{1.40 + 1.60 + 1.50 + 1.70}{4} = \\frac{6.20}{4} = 1.55 \\, \\text{Hz}\n",
        "\\]\n",
        "\n",
        "Y devolverá el resultado:\n",
        "\n",
        "```python\n",
        "1.55\n"
      ],
      "metadata": {
        "id": "QdXF54QUhPem"
      }
    },
    {
      "cell_type": "code",
      "source": [],
      "metadata": {
        "id": "5H3_pUVFhR07"
      },
      "execution_count": null,
      "outputs": []
    }
  ],
  "metadata": {
    "kernelspec": {
      "display_name": "ami0",
      "language": "python",
      "name": "ami0"
    },
    "language_info": {
      "codemirror_mode": {
        "name": "ipython",
        "version": 3
      },
      "file_extension": ".py",
      "mimetype": "text/x-python",
      "name": "python",
      "nbconvert_exporter": "python",
      "pygments_lexer": "ipython3",
      "version": "3.8.2"
    },
    "colab": {
      "provenance": []
    }
  },
  "nbformat": 4,
  "nbformat_minor": 0
}