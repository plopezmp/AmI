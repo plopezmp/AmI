{
 "cells": [
  {
   "cell_type": "markdown",
   "metadata": {
    "deletable": true,
    "editable": true
   },
   "source": [
    "# Entregable Sensorización"
   ]
  },
  {
   "cell_type": "markdown",
   "metadata": {
    "deletable": true,
    "editable": true
   },
   "source": [
    "#########################################\n",
    "#    REALIZADO POR:                     #\n",
    "#    - Nombre_1                         #\n",
    "#    - Nombre_2                         #\n",
    "#    - Nombre_3                         #\n",
    "#########################################"
   ]
  },
  {
   "cell_type": "markdown",
   "metadata": {
    "deletable": true,
    "editable": true
   },
   "source": [
    "Con el sensor de movimiento inercial x-BIMU:\n",
    "1. Conecte el dongle del IMU a cualquiera de los puertos USB en el PC o en una Raspberry Pi.\n",
    "2. Compruebe que el sensor está encendido, y\n",
    "3. Conteste a las cuestiones que se indican sobre el código de este notebook."
   ]
  },
  {
   "cell_type": "markdown",
   "metadata": {
    "deletable": true,
    "editable": true
   },
   "source": [
    "Importamos las librerías de Python:"
   ]
  },
  {
   "cell_type": "code",
   "execution_count": 1,
   "metadata": {
    "deletable": true,
    "editable": true
   },
   "outputs": [],
   "source": [
    "# -*- coding: utf-8 -*-\n",
    "import serial\n",
    "import io\n",
    "import numpy as np\n",
    "from collections import deque\n",
    "from scipy import fftpack, signal\n",
    "%matplotlib inline\n",
    "from matplotlib import pyplot as plt\n",
    "from time import time"
   ]
  },
  {
   "cell_type": "markdown",
   "metadata": {
    "deletable": true,
    "editable": true
   },
   "source": [
    "Abrimos el puerto serie donde recibimos los datos (a través del *dongle*)."
   ]
  },
  {
   "cell_type": "code",
   "execution_count": 2,
   "metadata": {
    "deletable": true,
    "editable": true
   },
   "outputs": [],
   "source": [
    "ser = serial.Serial('/dev/ttyUSB0', 115200, timeout=15)\n"
   ]
  },
  {
   "cell_type": "markdown",
   "metadata": {
    "deletable": true,
    "editable": true
   },
   "source": [
    "Los datos recibidos son muestras tomadas cada 1/64 sg:"
   ]
  },
  {
   "cell_type": "code",
   "execution_count": 3,
   "metadata": {
    "deletable": true,
    "editable": true
   },
   "outputs": [],
   "source": [
    "f_s = 64"
   ]
  },
  {
   "cell_type": "code",
   "execution_count": 4,
   "metadata": {
    "deletable": true,
    "editable": true
   },
   "outputs": [],
   "source": [
    "# umbral de amplitud para detectar un pico en la FFT. \n",
    "# amplitud threshold to select the FFT peak\n",
    "# the noise when sensor is steady has amp 10-30 if\n",
    "# we take accelerometer signal\n",
    "# threshold_FFT_amplitude = 10\n",
    "# The gyroscope signal has a greater amplitud\n",
    "threshold_FFT_amplitude = 1000 "
   ]
  },
  {
   "cell_type": "code",
   "execution_count": 5,
   "metadata": {
    "deletable": true,
    "editable": true
   },
   "outputs": [],
   "source": [
    "# Creating a queue\n",
    "maxlen=256\n",
    "queue =deque()\n",
    "# new samples in the buffer\n",
    "samples_non_overlaped = 64 # maxlen/4\n",
    "\n",
    "# now readline stops when encountering a \\r char\n",
    "ser_io = io.TextIOWrapper(io.BufferedRWPair(ser, ser, 1),  \n",
    "                               newline = '\\r',\n",
    "                               line_buffering = True)"
   ]
  },
  {
   "cell_type": "markdown",
   "metadata": {
    "deletable": true,
    "editable": true
   },
   "source": [
    "En la documentación aportada acerca de x-BIMU está la descripción y el formato de los datos recibidos desde el sensor. Cada línea de datos comienza por una letra y termina en un carácter de retorno de carro. \n",
    "En este laboratorio nos interesan los datos de los diferentes sensores que siempre comienza por el carácter ``S``, es decir son: ``S, gyrox, gyroy, gyroz, accelx, accely, accelz, magx, magy, magz, contador, checksum``. En total son 12 valores incluyendo el carácter inicial.\n",
    "\n",
    "La función ``dominant( )`` lee 512 líneas de datos que comienzan por ``'S'``. \n",
    "\n",
    "Calcula la frecuencia dominante en *ventanas* de 256 muestras con 64 muestras nuevas (``samples_non_overlapped``) cada vez."
   ]
  },
  {
   "cell_type": "code",
   "execution_count": 6,
   "metadata": {
    "deletable": true,
    "editable": true
   },
   "outputs": [],
   "source": [
    "def dominant(f_s, maxlen, queue):\n",
    "        freq_rithm = 0\n",
    "        i = 0\n",
    "        iterator = maxlen*2\n",
    "        queue = deque()\n",
    "        cont = 0\n",
    "        window = signal.blackman(maxlen)\n",
    "        while i <= iterator:\n",
    "            try:\n",
    "                line = ser_io.readline()\n",
    "            except serial.SerialException as err:\n",
    "                print(\"Error occurred while reading data: {}\".format(err))\n",
    "            if not line.endswith('\\r'):\n",
    "                print(\"Attempt to read from serial port timed out ... Exiting.\")\n",
    "                break  # terminate the loop and let the program exit\n",
    "            if line.startswith('S,'):\n",
    "                i += 1\n",
    "                line = line.split(',')\n",
    "                if len(line)==12: \n",
    "                    number = int(line[2])\n",
    "                # si cogiésemos accelx\n",
    "                # number = int(line.split(',')[4])\n",
    "                if (len(queue) == maxlen):\n",
    "                    queue.popleft()\n",
    "                    queue.append(number)\n",
    "                else:\n",
    "                    if (len(queue) < maxlen):\n",
    "                        queue.append(number)  \n",
    "                if len(queue)==maxlen and (i % samples_non_overlaped == 0):\n",
    "                    # f = fourier(1./f_s, queue)\n",
    "                    f = fourier(1./f_s, queue * window)\n",
    "                    freq_rithm = freq_rithm + f\n",
    "                    cont = cont + 1        \n",
    "        return freq_rithm/cont"
   ]
  },
  {
   "cell_type": "markdown",
   "metadata": {
    "deletable": true,
    "editable": true
   },
   "source": [
    "#### 1.    (5 puntos)   \n",
    "#### Cree una función ``fourier``( ) que calcule la frecuencia dominante pasando como parámetros de entrada el periodo de muestreo y los datos capturados. Puede ver el procedimiento en el notebook ``test FFT.ipynb`` proporcionado por el profesor.\n",
    "\n",
    "**Nota:** Compruebe el funcionamiento de la función ``dominant``( ) desde donde llamamos a ``fourier``( ). \n",
    "Usamos datos del flujo de entrada con un solape de ``maxlen`` - 64, y hacemos ``windowing`` con una ventana de Blackman para acortar el rango de frecuencias en la DFT dado que cogemos grupos de datos no contiguos."
   ]
  },
  {
   "cell_type": "code",
   "execution_count": 5,
   "metadata": {
    "collapsed": true,
    "deletable": true,
    "editable": true,
    "jupyter": {
     "outputs_hidden": true
    }
   },
   "outputs": [],
   "source": [
    "def fourier(timestep, data):\n",
    "    #-----Su código aquí\n",
    "    \n",
    "    \n",
    "    \n",
    "    \n",
    "    \n",
    "    \n",
    "    #------------------\n",
    "    return k"
   ]
  },
  {
   "cell_type": "markdown",
   "metadata": {
    "deletable": true,
    "editable": true
   },
   "source": [
    "Para contestar a esta pregunta de 4 puntos debe entregar este notebook con la función ``fourier`` hecha en el espacio dejado arriba. \n",
    "\n",
    "**No olvide poner los nombres de los integrantes del grupo en cada archivo que entregue.** \n",
    "\n",
    "En este notebook los nombres deben ir en la parte superior."
   ]
  },
  {
   "cell_type": "markdown",
   "metadata": {
    "deletable": true,
    "editable": true
   },
   "source": [
    "## Parte principal:"
   ]
  },
  {
   "cell_type": "markdown",
   "metadata": {
    "deletable": true,
    "editable": true
   },
   "source": [
    "Las siguientes líneas de código son las que debe ejecutar para calcular la frecuencia dominante.\n",
    "Desde esta parte se llama a la función ``dominant( )`` que a su vez llama a la función ``fourier( )`` que usted debe codificar. \n",
    "En este código distinguimos dos partes:\n",
    "\n",
    "1. En la parte ``try`` / ``except`` comprobamos si el puerto serie está abierto.\n",
    "\n",
    "2. En la parte de la condición ``if`` *limpiamos* el buffer de entrada con ``flushInput`` y llamamos a la función ``dominant( )``."
   ]
  },
  {
   "cell_type": "code",
   "execution_count": null,
   "metadata": {
    "collapsed": false,
    "deletable": true,
    "editable": true,
    "jupyter": {
     "outputs_hidden": false
    }
   },
   "outputs": [],
   "source": [
    "try:\n",
    "    ser.isOpen()\n",
    "    print('serial is open')\n",
    "except:\n",
    "    print('error_1')\n",
    "    exit()\n",
    "    \n",
    "if (ser.isOpen()):\n",
    "        ser.flushInput()\n",
    "        df = dominant(f_s, maxlen, queue)  \n",
    "        # print(df)\n",
    "        print('La frecuencia dominante es: %.2f Hz'% df)\n",
    "else:\n",
    "    print('Cannot open serial port')"
   ]
  },
  {
   "cell_type": "markdown",
   "metadata": {
    "collapsed": true,
    "deletable": true,
    "editable": true,
    "jupyter": {
     "outputs_hidden": true
    }
   },
   "source": [
    "#### 2.    (5 puntos) \n",
    "1. **Realice un script ``moduloSen.py`` que contenga las funciones que ha creado en este Notebook.** \n",
    "2. **Cree un Notebook nuevo que se llame ``serial.ipynb`` donde se importen (no se añada el código) las definiciones necesarias (incluidas dominant(), fourier(), ...), y, contenga una función ``calcula_frec_dom(num_calls)`` que compute el Valor Medio de 4 llamadas a la función ``dominant()``, es decir, 4 valores de la frecuencia dominante de la señal del giróscopo eje Y, realizados con 512 muestras cada uno**, un número de veces `num_calls` que pase como parámetro. \n",
    "\n",
    "Por ejemplo, una función:"
   ]
  },
  {
   "cell_type": "code",
   "execution_count": null,
   "metadata": {
    "collapsed": true,
    "deletable": true,
    "editable": true,
    "jupyter": {
     "outputs_hidden": true
    }
   },
   "outputs": [],
   "source": [
    "def calcula_frec_dom(num_calls)\n",
    "\n",
    "\n",
    "\n",
    "\n",
    "   return frec_dom_media"
   ]
  },
  {
   "cell_type": "markdown",
   "metadata": {
    "deletable": true,
    "editable": true
   },
   "source": [
    "Para contestar esta cuestión de 5 puntos debe entregar los archivos ``moduloSen.py`` y ``serial.ipynb`` con la función ``calcula_frec_dom()``.\n",
    "\n",
    "**Nota:** la función ``calcula_frec_dom()`` no debe resolverla en este Notebook sino en ``serial.ipynb``."
   ]
  },
  {
   "cell_type": "markdown",
   "metadata": {
    "deletable": true,
    "editable": true
   },
   "source": [
    "**por ejemplo,**\n",
    "\n",
    "from moduloSen import calcula_frec_dom\n",
    "\n",
    "from moduloSen import fourier\n",
    "\n",
    "...etc all imports\n",
    "\n",
    "-----------------------------\n",
    "\n",
    "num_calls = 4\n",
    "\n",
    "resultado = calcula_frec_dom(num_calls)\n",
    "\n",
    "La frecuencia dominante es: 1.50 Hz\n",
    "\n",
    "La frecuencia dominante es: 1.75 Hz\n",
    "\n",
    "La frecuencia dominante es: 2.00 Hz\n",
    "\n",
    "La frecuencia dominante es: 1.50 Hz\n",
    "\n",
    "\n",
    "-------"
   ]
  },
  {
   "cell_type": "code",
   "execution_count": null,
   "metadata": {
    "collapsed": true,
    "deletable": true,
    "editable": true,
    "jupyter": {
     "outputs_hidden": true
    }
   },
   "outputs": [],
   "source": []
  }
 ],
 "metadata": {
  "kernelspec": {
   "display_name": "ami0",
   "language": "python",
   "name": "ami0"
  },
  "language_info": {
   "codemirror_mode": {
    "name": "ipython",
    "version": 3
   },
   "file_extension": ".py",
   "mimetype": "text/x-python",
   "name": "python",
   "nbconvert_exporter": "python",
   "pygments_lexer": "ipython3",
   "version": "3.8.2"
  }
 },
 "nbformat": 4,
 "nbformat_minor": 4
}
